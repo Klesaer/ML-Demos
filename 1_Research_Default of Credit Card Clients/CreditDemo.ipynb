{
 "cells": [
  {
   "cell_type": "markdown",
   "metadata": {},
   "source": [
    "1. Load the credit card data (https://archive.ics.uci.edu/dataset/350/default+of+credit+card+clients)\n",
    "\n",
    "Here are explaination of the variables used:\n",
    "This research employed a binary variable, default payment (Yes = 1, No = 0), as the response variable. This study reviewed the literature and used the following 23 variables as explanatory variables:\n",
    "X1: Amount of the given credit (NT dollar): it includes both the individual consumer credit and his/her family (supplementary) credit.\n",
    "X2: Gender (1 = male; 2 = female).\n",
    "X3: Education (1 = graduate school; 2 = university; 3 = high school; 4 = others).\n",
    "X4: Marital status (1 = married; 2 = single; 3 = others).\n",
    "X5: Age (year).\n",
    "X6 - X11: History of past payment. We tracked the past monthly payment records (from April to September, 2005) as follows: X6 = the repayment status in September, 2005; X7 = the repayment status in August, 2005; . . .;X11 = the repayment status in April, 2005. The measurement scale for the repayment status is: -1 = pay duly; 1 = payment delay for one month; 2 = payment delay for two months; . . .; 8 = payment delay for eight months; 9 = payment delay for nine months and above.\n",
    "X12-X17: Amount of bill statement (NT dollar). X12 = amount of bill statement in September, 2005; X13 = amount of bill statement in August, 2005; . . .; X17 = amount of bill statement in April, 2005. \n",
    "X18-X23: Amount of previous payment (NT dollar). X18 = amount paid in September, 2005; X19 = amount paid in August, 2005; . . .;X23 = amount paid in April, 2005."
   ]
  },
  {
   "cell_type": "code",
   "execution_count": 1,
   "metadata": {},
   "outputs": [
    {
     "name": "stdout",
     "output_type": "stream",
     "text": [
      "{'uci_id': 350, 'name': 'Default of Credit Card Clients', 'repository_url': 'https://archive.ics.uci.edu/dataset/350/default+of+credit+card+clients', 'data_url': 'https://archive.ics.uci.edu/static/public/350/data.csv', 'abstract': \"This research aimed at the case of customers' default payments in Taiwan and compares the predictive accuracy of probability of default among six data mining methods.\", 'area': 'Business', 'tasks': ['Classification'], 'characteristics': ['Multivariate'], 'num_instances': 30000, 'num_features': 23, 'feature_types': ['Integer', 'Real'], 'demographics': ['Sex', 'Education Level', 'Marital Status', 'Age'], 'target_col': ['Y'], 'index_col': ['ID'], 'has_missing_values': 'no', 'missing_values_symbol': None, 'year_of_dataset_creation': 2009, 'last_updated': 'Fri Mar 29 2024', 'dataset_doi': '10.24432/C55S3H', 'creators': ['I-Cheng Yeh'], 'intro_paper': {'title': 'The comparisons of data mining techniques for the predictive accuracy of probability of default of credit card clients', 'authors': 'I. Yeh, Che-hui Lien', 'published_in': 'Expert systems with applications', 'year': 2009, 'url': 'https://www.semanticscholar.org/paper/1cacac4f0ea9fdff3cd88c151c94115a9fddcf33', 'doi': '10.1016/j.eswa.2007.12.020'}, 'additional_info': {'summary': \"This research aimed at the case of customers' default payments in Taiwan and compares the predictive accuracy of probability of default among six data mining methods. From the perspective of risk management, the result of predictive accuracy of the estimated probability of default will be more valuable than the binary result of classification - credible or not credible clients. Because the real probability of default is unknown, this study presented the novel Sorting Smoothing Method to estimate the real probability of default. With the real probability of default as the response variable (Y), and the predictive probability of default as the independent variable (X), the simple linear regression result (Y = A + BX) shows that the forecasting model produced by artificial neural network has the highest coefficient of determination; its regression intercept (A) is close to zero, and regression coefficient (B) to one. Therefore, among the six data mining techniques, artificial neural network is the only one that can accurately estimate the real probability of default.\", 'purpose': None, 'funded_by': None, 'instances_represent': None, 'recommended_data_splits': None, 'sensitive_data': None, 'preprocessing_description': None, 'variable_info': 'This research employed a binary variable, default payment (Yes = 1, No = 0), as the response variable. This study reviewed the literature and used the following 23 variables as explanatory variables:\\r\\nX1: Amount of the given credit (NT dollar): it includes both the individual consumer credit and his/her family (supplementary) credit.\\r\\nX2: Gender (1 = male; 2 = female).\\r\\nX3: Education (1 = graduate school; 2 = university; 3 = high school; 4 = others).\\r\\nX4: Marital status (1 = married; 2 = single; 3 = others).\\r\\nX5: Age (year).\\r\\nX6 - X11: History of past payment. We tracked the past monthly payment records (from April to September, 2005) as follows: X6 = the repayment status in September, 2005; X7 = the repayment status in August, 2005; . . .;X11 = the repayment status in April, 2005. The measurement scale for the repayment status is: -1 = pay duly; 1 = payment delay for one month; 2 = payment delay for two months; . . .; 8 = payment delay for eight months; 9 = payment delay for nine months and above.\\r\\nX12-X17: Amount of bill statement (NT dollar). X12 = amount of bill statement in September, 2005; X13 = amount of bill statement in August, 2005; . . .; X17 = amount of bill statement in April, 2005. \\r\\nX18-X23: Amount of previous payment (NT dollar). X18 = amount paid in September, 2005; X19 = amount paid in August, 2005; . . .;X23 = amount paid in April, 2005.\\r\\n', 'citation': None}}\n",
      "   name     role     type      demographic                 description units  \\\n",
      "0    ID       ID  Integer             None                        None  None   \n",
      "1    X1  Feature  Integer             None                   LIMIT_BAL  None   \n",
      "2    X2  Feature  Integer              Sex                         SEX  None   \n",
      "3    X3  Feature  Integer  Education Level                   EDUCATION  None   \n",
      "4    X4  Feature  Integer   Marital Status                    MARRIAGE  None   \n",
      "5    X5  Feature  Integer              Age                         AGE  None   \n",
      "6    X6  Feature  Integer             None                       PAY_0  None   \n",
      "7    X7  Feature  Integer             None                       PAY_2  None   \n",
      "8    X8  Feature  Integer             None                       PAY_3  None   \n",
      "9    X9  Feature  Integer             None                       PAY_4  None   \n",
      "10  X10  Feature  Integer             None                       PAY_5  None   \n",
      "11  X11  Feature  Integer             None                       PAY_6  None   \n",
      "12  X12  Feature  Integer             None                   BILL_AMT1  None   \n",
      "13  X13  Feature  Integer             None                   BILL_AMT2  None   \n",
      "14  X14  Feature  Integer             None                   BILL_AMT3  None   \n",
      "15  X15  Feature  Integer             None                   BILL_AMT4  None   \n",
      "16  X16  Feature  Integer             None                   BILL_AMT5  None   \n",
      "17  X17  Feature  Integer             None                   BILL_AMT6  None   \n",
      "18  X18  Feature  Integer             None                    PAY_AMT1  None   \n",
      "19  X19  Feature  Integer             None                    PAY_AMT2  None   \n",
      "20  X20  Feature  Integer             None                    PAY_AMT3  None   \n",
      "21  X21  Feature  Integer             None                    PAY_AMT4  None   \n",
      "22  X22  Feature  Integer             None                    PAY_AMT5  None   \n",
      "23  X23  Feature  Integer             None                    PAY_AMT6  None   \n",
      "24    Y   Target   Binary             None  default payment next month  None   \n",
      "\n",
      "   missing_values  \n",
      "0              no  \n",
      "1              no  \n",
      "2              no  \n",
      "3              no  \n",
      "4              no  \n",
      "5              no  \n",
      "6              no  \n",
      "7              no  \n",
      "8              no  \n",
      "9              no  \n",
      "10             no  \n",
      "11             no  \n",
      "12             no  \n",
      "13             no  \n",
      "14             no  \n",
      "15             no  \n",
      "16             no  \n",
      "17             no  \n",
      "18             no  \n",
      "19             no  \n",
      "20             no  \n",
      "21             no  \n",
      "22             no  \n",
      "23             no  \n",
      "24             no  \n"
     ]
    }
   ],
   "source": [
    "from ucimlrepo import fetch_ucirepo \n",
    "  \n",
    "# fetch dataset \n",
    "default_of_credit_card_clients = fetch_ucirepo(id=350) \n",
    "  \n",
    "# data (as pandas dataframes) \n",
    "X = default_of_credit_card_clients.data.features \n",
    "y = default_of_credit_card_clients.data.targets \n",
    "  \n",
    "# metadata \n",
    "print(default_of_credit_card_clients.metadata) \n",
    "  \n",
    "# variable information \n",
    "print(default_of_credit_card_clients.variables) "
   ]
  },
  {
   "cell_type": "markdown",
   "metadata": {},
   "source": [
    "2. Load the tools to be used."
   ]
  },
  {
   "cell_type": "code",
   "execution_count": 2,
   "metadata": {},
   "outputs": [],
   "source": [
    "# Import essential libraries\n",
    "import numpy as np\n",
    "import pandas as pd\n",
    "import matplotlib.pyplot as plt\n",
    "from sklearn.linear_model import LinearRegression, Ridge\n",
    "from sklearn.preprocessing import StandardScaler, PolynomialFeatures\n",
    "from sklearn.model_selection import train_test_split\n",
    "from sklearn.metrics import accuracy_score, precision_score, recall_score, roc_auc_score, f1_score\n",
    "import tensorflow as tf\n",
    "from tensorflow.keras.models import Sequential\n",
    "from tensorflow.keras.layers import Dense\n",
    "from tensorflow.keras.activations import relu, linear, sigmoid\n",
    "from tensorflow.keras.losses import BinaryCrossentropy\n",
    "from tensorflow.keras.optimizers import Adam\n",
    "import logging\n",
    "\n",
    "# Suppress TensorFlow logging\n",
    "logging.getLogger(\"tensorflow\").setLevel(logging.ERROR)\n",
    "\n",
    "# Custom modules \n",
    "# Add on Demand\n",
    "\n",
    "# Set TensorFlow float precision and verbosity\n",
    "tf.keras.backend.set_floatx('float64')\n",
    "tf.autograph.set_verbosity(0)"
   ]
  },
  {
   "cell_type": "markdown",
   "metadata": {},
   "source": [
    "3. Data patrition\n",
    "Training(70%)\n",
    "Validation(30%)"
   ]
  },
  {
   "cell_type": "code",
   "execution_count": 3,
   "metadata": {},
   "outputs": [
    {
     "name": "stdout",
     "output_type": "stream",
     "text": [
      "X_train.shape (21000, 23) y_train.shape (21000, 1)\n",
      "X_test.shape (9000, 23) y_test.shape (9000, 1)\n"
     ]
    }
   ],
   "source": [
    "X_train, X_test, y_train, y_test = train_test_split(X,y,test_size=0.3, random_state=1)\n",
    "print(\"X_train.shape\", X_train.shape, \"y_train.shape\", y_train.shape)\n",
    "print(\"X_test.shape\", X_test.shape, \"y_test.shape\", y_test.shape)"
   ]
  },
  {
   "cell_type": "markdown",
   "metadata": {},
   "source": [
    "#### take a look at our datasets"
   ]
  },
  {
   "cell_type": "code",
   "execution_count": 4,
   "metadata": {},
   "outputs": [
    {
     "name": "stdout",
     "output_type": "stream",
     "text": [
      "           X1  X2  X3  X4  X5  X6  X7  X8  X9  X10  ...     X14     X15  \\\n",
      "4936    20000   1   1   2  24  -1  -1  -1  -1   -1  ...     390     780   \n",
      "4788   120000   1   2   1  52   2   0   0   0    0  ...  105262   46605   \n",
      "8447    70000   2   2   2  26   0   0   0   0    0  ...   26103   28342   \n",
      "4535   230000   1   2   2  37   1  -2  -2  -2   -2  ...       0       0   \n",
      "27563  130000   1   2   2  56   0   0   0   0    0  ...  111780  116357   \n",
      "16891  120000   1   1   2  33   1  -2  -2  -1   -1  ...       0     600   \n",
      "28568  180000   2   3   1  40   0   0   0  -2   -2  ...    2079     792   \n",
      "24502   50000   1   1   2  34   1   2   2   2    2  ...   49914   48382   \n",
      "7425   180000   2   1   1  38   1   2   0   0    0  ...  117004  119542   \n",
      "27693   50000   2   1   2  25  -1   2  -1  -1   -1  ...    2262    2185   \n",
      "\n",
      "          X16     X17   X18    X19   X20   X21    X22   X23  \n",
      "4936        0       0   390    390   780     0      0     0  \n",
      "4788    45590   46204  4449   2731  3000  5000   3000  3000  \n",
      "8447    24894   25272  3003   5106  4026   755   1029  5303  \n",
      "4535        0       0     0      0     0     0      0     0  \n",
      "27563   96936   98173  4000   5000  8000  4000   4000  5000  \n",
      "16891       0       0     0      0   600     0      0     0  \n",
      "28568    1645    1645  4262   2083   792  1645      0   811  \n",
      "24502   50693   50364  2500   2200     0  3800   1000  1500  \n",
      "7425   122452  130293     0  10000  6000  5000  10000  6500  \n",
      "27693       0    5918     0   2262  2185     0   5918     0  \n",
      "\n",
      "[10 rows x 23 columns]\n",
      "       Y\n",
      "4936   0\n",
      "4788   0\n",
      "8447   1\n",
      "4535   1\n",
      "27563  0\n",
      "16891  0\n",
      "28568  0\n",
      "24502  0\n",
      "7425   0\n",
      "27693  0\n",
      "Y    4636\n",
      "dtype: int64\n",
      "Y    2000\n",
      "dtype: int64\n"
     ]
    },
    {
     "name": "stderr",
     "output_type": "stream",
     "text": [
      "c:\\Users\\junyhu\\AppData\\Local\\Programs\\Python\\Python312\\Lib\\site-packages\\numpy\\core\\fromnumeric.py:86: FutureWarning: The behavior of DataFrame.sum with axis=None is deprecated, in a future version this will reduce over both axes and return a scalar. To retain the old behavior, pass axis=0 (or do not pass axis)\n",
      "  return reduction(axis=axis, out=out, **passkwargs)\n"
     ]
    }
   ],
   "source": [
    "print(X_train[0:10])\n",
    "print(y_train[0:10])\n",
    "print(np.sum(y_train))\n",
    "print(np.sum(y_test))"
   ]
  },
  {
   "cell_type": "code",
   "execution_count": 5,
   "metadata": {},
   "outputs": [],
   "source": [
    "# Standardize the data\n",
    "scaler = StandardScaler()\n",
    "X_train = scaler.fit_transform(X_train)\n",
    "X_test = scaler.transform(X_test)"
   ]
  },
  {
   "cell_type": "code",
   "execution_count": 6,
   "metadata": {},
   "outputs": [
    {
     "name": "stdout",
     "output_type": "stream",
     "text": [
      "[[-1.13811999e+00 -1.23402819e+00 -1.08113355e+00  8.60263312e-01\n",
      "  -1.25044823e+00 -8.72212469e-01 -7.24864487e-01 -6.97151790e-01\n",
      "  -6.67326417e-01 -6.49210559e-01 -1.48852344e+00 -6.89268715e-01\n",
      "  -6.85560012e-01 -6.79853854e-01 -6.60926079e-01 -6.61641735e-01\n",
      "  -6.50012923e-01 -3.13415732e-01 -2.46141485e-01 -2.51886380e-01\n",
      "  -3.02330578e-01 -3.12222220e-01 -3.00971068e-01]\n",
      " [-3.64733911e-01 -1.23402819e+00  1.80329088e-01 -1.05813210e+00\n",
      "   1.79323915e+00  1.78016893e+00  1.06856321e-01  1.35433947e-01\n",
      "   1.84372547e-01  2.29005219e-01  2.49149151e-01  7.61464069e-01\n",
      "   8.12551402e-01  8.54708826e-01  5.25646906e-02  8.88480589e-02\n",
      "   1.23000623e-01 -7.02698877e-02 -1.42050882e-01 -1.24115905e-01\n",
      "   1.77590093e-02 -1.15448614e-01 -1.24388267e-01]\n",
      " [-7.51426949e-01  8.10354262e-01  1.80329088e-01  8.60263312e-01\n",
      "  -1.03304199e+00  1.19146657e-02  1.06856321e-01  1.35433947e-01\n",
      "   1.84372547e-01  2.29005219e-01  2.49149151e-01 -3.76818019e-01\n",
      "  -3.64764433e-01 -3.03602708e-01 -2.31788434e-01 -2.51843689e-01\n",
      "  -2.27201081e-01 -1.56889471e-01 -3.64484973e-02 -6.50652261e-02\n",
      "  -2.53997050e-01 -2.44728873e-01  1.11684642e-02]\n",
      " [ 4.85990772e-01 -1.23402819e+00  1.80329088e-01  8.60263312e-01\n",
      "   1.62692337e-01  8.96041800e-01 -1.55658529e+00 -1.52973753e+00\n",
      "  -1.51902538e+00 -1.52742634e+00 -1.48852344e+00 -6.94562419e-01\n",
      "  -6.91051158e-01 -6.85560615e-01 -6.73070603e-01 -6.61641735e-01\n",
      "  -6.50012923e-01 -3.36777860e-01 -2.63482508e-01 -2.96778709e-01\n",
      "  -3.02330578e-01 -3.12222220e-01 -3.00971068e-01]\n",
      " [-2.87395304e-01 -1.23402819e+00  1.80329088e-01  8.60263312e-01\n",
      "   2.22805163e+00  1.19146657e-02  1.06856321e-01  1.35433947e-01\n",
      "   1.84372547e-01  2.29005219e-01  2.49149151e-01  9.50082813e-01\n",
      "   8.54988107e-01  9.50084899e-01  1.13859651e+00  9.34091510e-01\n",
      "   9.92465193e-01 -9.71662868e-02 -4.11616985e-02  1.63655435e-01\n",
      "  -4.62589081e-02 -4.98574124e-02 -6.66639878e-03]\n",
      " [-3.64733911e-01 -1.23402819e+00 -1.08113355e+00  8.60263312e-01\n",
      "  -2.72120146e-01  8.96041800e-01 -1.55658529e+00 -1.52973753e+00\n",
      "  -6.67326417e-01 -6.49210559e-01 -1.48852344e+00 -6.94562419e-01\n",
      "  -6.91051158e-01 -6.85560615e-01 -6.63728662e-01 -6.61641735e-01\n",
      "  -6.50012923e-01 -3.36777860e-01 -2.63482508e-01 -2.62246148e-01\n",
      "  -3.02330578e-01 -3.12222220e-01 -3.00971068e-01]\n",
      " [ 9.92977340e-02  8.10354262e-01  1.44179173e+00 -1.05813210e+00\n",
      "   4.88801700e-01  1.19146657e-02  1.06856321e-01  1.35433947e-01\n",
      "  -1.51902538e+00 -1.52742634e+00 -1.48852344e+00 -4.10752019e-01\n",
      "  -3.49445543e-01 -6.55139189e-01 -6.60739240e-01 -6.34562206e-01\n",
      "  -6.22491339e-01 -8.14717287e-02 -1.70863659e-01 -2.51195729e-01\n",
      "  -1.97021104e-01 -3.12222220e-01 -2.53234851e-01]\n",
      " [-9.06104164e-01 -1.23402819e+00 -1.08113355e+00  8.60263312e-01\n",
      "  -1.63417025e-01  8.96041800e-01  1.77029794e+00  1.80060542e+00\n",
      "   1.88777048e+00  1.98543678e+00  1.98682174e+00 -4.01520206e-02\n",
      "   1.77661913e-03  4.48170034e-02  8.02324069e-02  1.72852214e-01\n",
      "   1.92599280e-01 -1.87020627e-01 -1.65661352e-01 -2.96778709e-01\n",
      "  -5.90624916e-02 -2.46631018e-01 -2.12679667e-01]\n",
      " [ 9.92977340e-02  8.10354262e-01 -1.08113355e+00 -1.05813210e+00\n",
      "   2.71395458e-01  8.96041800e-01  1.77029794e+00  1.35433947e-01\n",
      "   1.84372547e-01  2.29005219e-01  2.49149151e-01  8.58433867e-01\n",
      "   8.74136719e-01  1.02652623e+00  1.18818665e+00  1.35412875e+00\n",
      "   1.52984713e+00 -3.36777860e-01  1.81159111e-01  4.85468990e-02\n",
      "   1.77590093e-02  3.43689799e-01  8.16250021e-02]\n",
      " [-9.06104164e-01  8.10354262e-01 -1.08113355e+00  8.60263312e-01\n",
      "  -1.14174511e+00 -8.72212469e-01  1.77029794e+00 -6.97151790e-01\n",
      "  -6.67326417e-01 -6.49210559e-01 -6.19687144e-01 -5.71857076e-01\n",
      "  -6.48529975e-01 -6.52461401e-01 -6.39050367e-01 -6.61641735e-01\n",
      "  -5.51002141e-01 -3.36777860e-01 -1.62904574e-01 -1.71022633e-01\n",
      "  -3.02330578e-01  7.59465129e-02 -3.00971068e-01]]\n",
      "       Y\n",
      "4936   0\n",
      "4788   0\n",
      "8447   1\n",
      "4535   1\n",
      "27563  0\n",
      "16891  0\n",
      "28568  0\n",
      "24502  0\n",
      "7425   0\n",
      "27693  0\n"
     ]
    }
   ],
   "source": [
    "print(X_train[0:10])\n",
    "print(y_train[0:10])"
   ]
  },
  {
   "cell_type": "markdown",
   "metadata": {},
   "source": [
    "Plot trainning, test and so on..."
   ]
  },
  {
   "cell_type": "code",
   "execution_count": 7,
   "metadata": {},
   "outputs": [],
   "source": [
    "tf.random.set_seed(1234)\n",
    "model = Sequential(\n",
    "    [\n",
    "        tf.keras.Input(shape=(23,)),\n",
    "        Dense(units=20, activation='relu', name='L1'),  \n",
    "        Dense(units=10, activation='relu', name='L2'),\n",
    "        Dense(units=5, activation='relu', name='L3'),\n",
    "        Dense(units=1, activation='sigmoid', name='L4')\n",
    "    ]\n",
    ")\n"
   ]
  },
  {
   "cell_type": "code",
   "execution_count": 8,
   "metadata": {},
   "outputs": [
    {
     "data": {
      "text/html": [
       "<pre style=\"white-space:pre;overflow-x:auto;line-height:normal;font-family:Menlo,'DejaVu Sans Mono',consolas,'Courier New',monospace\"><span style=\"font-weight: bold\">Model: \"sequential\"</span>\n",
       "</pre>\n"
      ],
      "text/plain": [
       "\u001b[1mModel: \"sequential\"\u001b[0m\n"
      ]
     },
     "metadata": {},
     "output_type": "display_data"
    },
    {
     "data": {
      "text/html": [
       "<pre style=\"white-space:pre;overflow-x:auto;line-height:normal;font-family:Menlo,'DejaVu Sans Mono',consolas,'Courier New',monospace\">┏━━━━━━━━━━━━━━━━━━━━━━━━━━━━━━━━━┳━━━━━━━━━━━━━━━━━━━━━━━━┳━━━━━━━━━━━━━━━┓\n",
       "┃<span style=\"font-weight: bold\"> Layer (type)                    </span>┃<span style=\"font-weight: bold\"> Output Shape           </span>┃<span style=\"font-weight: bold\">       Param # </span>┃\n",
       "┡━━━━━━━━━━━━━━━━━━━━━━━━━━━━━━━━━╇━━━━━━━━━━━━━━━━━━━━━━━━╇━━━━━━━━━━━━━━━┩\n",
       "│ L1 (<span style=\"color: #0087ff; text-decoration-color: #0087ff\">Dense</span>)                      │ (<span style=\"color: #00d7ff; text-decoration-color: #00d7ff\">None</span>, <span style=\"color: #00af00; text-decoration-color: #00af00\">20</span>)             │           <span style=\"color: #00af00; text-decoration-color: #00af00\">480</span> │\n",
       "├─────────────────────────────────┼────────────────────────┼───────────────┤\n",
       "│ L2 (<span style=\"color: #0087ff; text-decoration-color: #0087ff\">Dense</span>)                      │ (<span style=\"color: #00d7ff; text-decoration-color: #00d7ff\">None</span>, <span style=\"color: #00af00; text-decoration-color: #00af00\">10</span>)             │           <span style=\"color: #00af00; text-decoration-color: #00af00\">210</span> │\n",
       "├─────────────────────────────────┼────────────────────────┼───────────────┤\n",
       "│ L3 (<span style=\"color: #0087ff; text-decoration-color: #0087ff\">Dense</span>)                      │ (<span style=\"color: #00d7ff; text-decoration-color: #00d7ff\">None</span>, <span style=\"color: #00af00; text-decoration-color: #00af00\">5</span>)              │            <span style=\"color: #00af00; text-decoration-color: #00af00\">55</span> │\n",
       "├─────────────────────────────────┼────────────────────────┼───────────────┤\n",
       "│ L4 (<span style=\"color: #0087ff; text-decoration-color: #0087ff\">Dense</span>)                      │ (<span style=\"color: #00d7ff; text-decoration-color: #00d7ff\">None</span>, <span style=\"color: #00af00; text-decoration-color: #00af00\">1</span>)              │             <span style=\"color: #00af00; text-decoration-color: #00af00\">6</span> │\n",
       "└─────────────────────────────────┴────────────────────────┴───────────────┘\n",
       "</pre>\n"
      ],
      "text/plain": [
       "┏━━━━━━━━━━━━━━━━━━━━━━━━━━━━━━━━━┳━━━━━━━━━━━━━━━━━━━━━━━━┳━━━━━━━━━━━━━━━┓\n",
       "┃\u001b[1m \u001b[0m\u001b[1mLayer (type)                   \u001b[0m\u001b[1m \u001b[0m┃\u001b[1m \u001b[0m\u001b[1mOutput Shape          \u001b[0m\u001b[1m \u001b[0m┃\u001b[1m \u001b[0m\u001b[1m      Param #\u001b[0m\u001b[1m \u001b[0m┃\n",
       "┡━━━━━━━━━━━━━━━━━━━━━━━━━━━━━━━━━╇━━━━━━━━━━━━━━━━━━━━━━━━╇━━━━━━━━━━━━━━━┩\n",
       "│ L1 (\u001b[38;5;33mDense\u001b[0m)                      │ (\u001b[38;5;45mNone\u001b[0m, \u001b[38;5;34m20\u001b[0m)             │           \u001b[38;5;34m480\u001b[0m │\n",
       "├─────────────────────────────────┼────────────────────────┼───────────────┤\n",
       "│ L2 (\u001b[38;5;33mDense\u001b[0m)                      │ (\u001b[38;5;45mNone\u001b[0m, \u001b[38;5;34m10\u001b[0m)             │           \u001b[38;5;34m210\u001b[0m │\n",
       "├─────────────────────────────────┼────────────────────────┼───────────────┤\n",
       "│ L3 (\u001b[38;5;33mDense\u001b[0m)                      │ (\u001b[38;5;45mNone\u001b[0m, \u001b[38;5;34m5\u001b[0m)              │            \u001b[38;5;34m55\u001b[0m │\n",
       "├─────────────────────────────────┼────────────────────────┼───────────────┤\n",
       "│ L4 (\u001b[38;5;33mDense\u001b[0m)                      │ (\u001b[38;5;45mNone\u001b[0m, \u001b[38;5;34m1\u001b[0m)              │             \u001b[38;5;34m6\u001b[0m │\n",
       "└─────────────────────────────────┴────────────────────────┴───────────────┘\n"
      ]
     },
     "metadata": {},
     "output_type": "display_data"
    },
    {
     "data": {
      "text/html": [
       "<pre style=\"white-space:pre;overflow-x:auto;line-height:normal;font-family:Menlo,'DejaVu Sans Mono',consolas,'Courier New',monospace\"><span style=\"font-weight: bold\"> Total params: </span><span style=\"color: #00af00; text-decoration-color: #00af00\">751</span> (5.87 KB)\n",
       "</pre>\n"
      ],
      "text/plain": [
       "\u001b[1m Total params: \u001b[0m\u001b[38;5;34m751\u001b[0m (5.87 KB)\n"
      ]
     },
     "metadata": {},
     "output_type": "display_data"
    },
    {
     "data": {
      "text/html": [
       "<pre style=\"white-space:pre;overflow-x:auto;line-height:normal;font-family:Menlo,'DejaVu Sans Mono',consolas,'Courier New',monospace\"><span style=\"font-weight: bold\"> Trainable params: </span><span style=\"color: #00af00; text-decoration-color: #00af00\">751</span> (5.87 KB)\n",
       "</pre>\n"
      ],
      "text/plain": [
       "\u001b[1m Trainable params: \u001b[0m\u001b[38;5;34m751\u001b[0m (5.87 KB)\n"
      ]
     },
     "metadata": {},
     "output_type": "display_data"
    },
    {
     "data": {
      "text/html": [
       "<pre style=\"white-space:pre;overflow-x:auto;line-height:normal;font-family:Menlo,'DejaVu Sans Mono',consolas,'Courier New',monospace\"><span style=\"font-weight: bold\"> Non-trainable params: </span><span style=\"color: #00af00; text-decoration-color: #00af00\">0</span> (0.00 B)\n",
       "</pre>\n"
      ],
      "text/plain": [
       "\u001b[1m Non-trainable params: \u001b[0m\u001b[38;5;34m0\u001b[0m (0.00 B)\n"
      ]
     },
     "metadata": {},
     "output_type": "display_data"
    },
    {
     "name": "stdout",
     "output_type": "stream",
     "text": [
      "W1 shape = (23, 20), b1 shape = (20,)\n",
      "W2 shape = (20, 10), b2 shape = (10,)\n",
      "W3 shape = (10, 5), b3 shape = (5,)\n",
      "W4 shape = (5, 1), b3 shape = (1,)\n"
     ]
    }
   ],
   "source": [
    "model.summary()\n",
    "#### Examine Weights shapes\n",
    "[layer1, layer2, layer3, layer4] = model.layers\n",
    "W1,b1 = layer1.get_weights()\n",
    "W2,b2 = layer2.get_weights()\n",
    "W3,b3 = layer3.get_weights()\n",
    "W4,b4 = layer4.get_weights()\n",
    "\n",
    "print(f\"W1 shape = {W1.shape}, b1 shape = {b1.shape}\")\n",
    "print(f\"W2 shape = {W2.shape}, b2 shape = {b2.shape}\")\n",
    "print(f\"W3 shape = {W3.shape}, b3 shape = {b3.shape}\")\n",
    "print(f\"W4 shape = {W4.shape}, b3 shape = {b4.shape}\")"
   ]
  },
  {
   "cell_type": "code",
   "execution_count": 9,
   "metadata": {},
   "outputs": [
    {
     "name": "stdout",
     "output_type": "stream",
     "text": [
      "Epoch 1/20\n",
      "\u001b[1m657/657\u001b[0m \u001b[32m━━━━━━━━━━━━━━━━━━━━\u001b[0m\u001b[37m\u001b[0m \u001b[1m1s\u001b[0m 660us/step - loss: 0.5441\n",
      "Epoch 2/20\n",
      "\u001b[1m657/657\u001b[0m \u001b[32m━━━━━━━━━━━━━━━━━━━━\u001b[0m\u001b[37m\u001b[0m \u001b[1m0s\u001b[0m 605us/step - loss: 0.4524\n",
      "Epoch 3/20\n",
      "\u001b[1m657/657\u001b[0m \u001b[32m━━━━━━━━━━━━━━━━━━━━\u001b[0m\u001b[37m\u001b[0m \u001b[1m0s\u001b[0m 610us/step - loss: 0.4458\n",
      "Epoch 4/20\n",
      "\u001b[1m657/657\u001b[0m \u001b[32m━━━━━━━━━━━━━━━━━━━━\u001b[0m\u001b[37m\u001b[0m \u001b[1m0s\u001b[0m 584us/step - loss: 0.4424\n",
      "Epoch 5/20\n",
      "\u001b[1m657/657\u001b[0m \u001b[32m━━━━━━━━━━━━━━━━━━━━\u001b[0m\u001b[37m\u001b[0m \u001b[1m0s\u001b[0m 607us/step - loss: 0.4399\n",
      "Epoch 6/20\n",
      "\u001b[1m657/657\u001b[0m \u001b[32m━━━━━━━━━━━━━━━━━━━━\u001b[0m\u001b[37m\u001b[0m \u001b[1m0s\u001b[0m 668us/step - loss: 0.4378\n",
      "Epoch 7/20\n",
      "\u001b[1m657/657\u001b[0m \u001b[32m━━━━━━━━━━━━━━━━━━━━\u001b[0m\u001b[37m\u001b[0m \u001b[1m0s\u001b[0m 595us/step - loss: 0.4360\n",
      "Epoch 8/20\n",
      "\u001b[1m657/657\u001b[0m \u001b[32m━━━━━━━━━━━━━━━━━━━━\u001b[0m\u001b[37m\u001b[0m \u001b[1m0s\u001b[0m 660us/step - loss: 0.4345\n",
      "Epoch 9/20\n",
      "\u001b[1m657/657\u001b[0m \u001b[32m━━━━━━━━━━━━━━━━━━━━\u001b[0m\u001b[37m\u001b[0m \u001b[1m0s\u001b[0m 583us/step - loss: 0.4333\n",
      "Epoch 10/20\n",
      "\u001b[1m657/657\u001b[0m \u001b[32m━━━━━━━━━━━━━━━━━━━━\u001b[0m\u001b[37m\u001b[0m \u001b[1m0s\u001b[0m 624us/step - loss: 0.4324\n",
      "Epoch 11/20\n",
      "\u001b[1m657/657\u001b[0m \u001b[32m━━━━━━━━━━━━━━━━━━━━\u001b[0m\u001b[37m\u001b[0m \u001b[1m0s\u001b[0m 577us/step - loss: 0.4314\n",
      "Epoch 12/20\n",
      "\u001b[1m657/657\u001b[0m \u001b[32m━━━━━━━━━━━━━━━━━━━━\u001b[0m\u001b[37m\u001b[0m \u001b[1m0s\u001b[0m 555us/step - loss: 0.4308\n",
      "Epoch 13/20\n",
      "\u001b[1m657/657\u001b[0m \u001b[32m━━━━━━━━━━━━━━━━━━━━\u001b[0m\u001b[37m\u001b[0m \u001b[1m0s\u001b[0m 599us/step - loss: 0.4301\n",
      "Epoch 14/20\n",
      "\u001b[1m657/657\u001b[0m \u001b[32m━━━━━━━━━━━━━━━━━━━━\u001b[0m\u001b[37m\u001b[0m \u001b[1m0s\u001b[0m 556us/step - loss: 0.4296\n",
      "Epoch 15/20\n",
      "\u001b[1m657/657\u001b[0m \u001b[32m━━━━━━━━━━━━━━━━━━━━\u001b[0m\u001b[37m\u001b[0m \u001b[1m0s\u001b[0m 564us/step - loss: 0.4290\n",
      "Epoch 16/20\n",
      "\u001b[1m657/657\u001b[0m \u001b[32m━━━━━━━━━━━━━━━━━━━━\u001b[0m\u001b[37m\u001b[0m \u001b[1m0s\u001b[0m 541us/step - loss: 0.4286\n",
      "Epoch 17/20\n",
      "\u001b[1m657/657\u001b[0m \u001b[32m━━━━━━━━━━━━━━━━━━━━\u001b[0m\u001b[37m\u001b[0m \u001b[1m0s\u001b[0m 555us/step - loss: 0.4283\n",
      "Epoch 18/20\n",
      "\u001b[1m657/657\u001b[0m \u001b[32m━━━━━━━━━━━━━━━━━━━━\u001b[0m\u001b[37m\u001b[0m \u001b[1m0s\u001b[0m 579us/step - loss: 0.4278\n",
      "Epoch 19/20\n",
      "\u001b[1m657/657\u001b[0m \u001b[32m━━━━━━━━━━━━━━━━━━━━\u001b[0m\u001b[37m\u001b[0m \u001b[1m0s\u001b[0m 586us/step - loss: 0.4276\n",
      "Epoch 20/20\n",
      "\u001b[1m657/657\u001b[0m \u001b[32m━━━━━━━━━━━━━━━━━━━━\u001b[0m\u001b[37m\u001b[0m \u001b[1m0s\u001b[0m 607us/step - loss: 0.4272\n"
     ]
    },
    {
     "data": {
      "text/plain": [
       "<keras.src.callbacks.history.History at 0x12dd1140710>"
      ]
     },
     "execution_count": 9,
     "metadata": {},
     "output_type": "execute_result"
    }
   ],
   "source": [
    "model.compile(\n",
    "    loss=tf.keras.losses.BinaryCrossentropy(),\n",
    "    optimizer=tf.keras.optimizers.Adam(0.001),\n",
    ")\n",
    "\n",
    "model.fit(\n",
    "    X_train,y_train,\n",
    "    epochs=20\n",
    ")\n"
   ]
  },
  {
   "cell_type": "code",
   "execution_count": 10,
   "metadata": {},
   "outputs": [
    {
     "name": "stdout",
     "output_type": "stream",
     "text": [
      "\u001b[1m282/282\u001b[0m \u001b[32m━━━━━━━━━━━━━━━━━━━━\u001b[0m\u001b[37m\u001b[0m \u001b[1m0s\u001b[0m 478us/step - loss: 0.4369\n",
      "Test Loss: 0.44029490380903186\n",
      "\u001b[1m282/282\u001b[0m \u001b[32m━━━━━━━━━━━━━━━━━━━━\u001b[0m\u001b[37m\u001b[0m \u001b[1m0s\u001b[0m 539us/step\n",
      "Predictions: [0.06698307 0.11341859 0.14472478 ... 0.20425161 0.23159502 0.25014458]\n",
      "Actual Labels: [0 1 0 ... 0 0 0]\n",
      "Binary Predictions: [0 0 0 ... 0 0 0]\n",
      "Prediction Distribution: {0: 7795, 1: 1205}\n",
      "Accuracy: 0.8138888888888889\n",
      "Precision: 0.6348547717842323\n",
      "Recall: 0.3825\n",
      "F1-Score: 0.47737909516380655\n",
      "AUC: 0.768516\n"
     ]
    }
   ],
   "source": [
    "# Evaluate the model on the test data\n",
    "test_loss = model.evaluate(X_test, y_test)\n",
    "print(f'Test Loss: {test_loss}')\n",
    "\n",
    "# Make predictions on the test data\n",
    "predictions = model.predict(X_test)\n",
    "\n",
    "# Convert y_test to a NumPy array if it's a DataFrame\n",
    "if isinstance(y_test, pd.DataFrame):\n",
    "    y_test = y_test.values\n",
    "\n",
    "# Compare predictions with actual test labels\n",
    "print('Predictions:', predictions.flatten())\n",
    "print('Actual Labels:', y_test.flatten())\n",
    "\n",
    "# Optionally, you can threshold the predictions to get binary outputs\n",
    "threshold = 0.5\n",
    "binary_predictions = (predictions > threshold).astype(int)\n",
    "print('Binary Predictions:', binary_predictions.flatten())\n",
    "\n",
    "# Calculate and print the distribution of predictions\n",
    "unique, counts = np.unique(binary_predictions, return_counts=True)\n",
    "prediction_distribution = dict(zip(unique, counts))\n",
    "print(f'Prediction Distribution: {prediction_distribution}')\n",
    "\n",
    "# Calculate additional metrics with zero_division parameter to handle undefined precision\n",
    "accuracy = accuracy_score(y_test, binary_predictions)\n",
    "precision = precision_score(y_test, binary_predictions, zero_division=1)\n",
    "recall = recall_score(y_test, binary_predictions, zero_division=1)\n",
    "f1 = f1_score(y_test, binary_predictions, zero_division=1)\n",
    "auc = roc_auc_score(y_test, predictions)\n",
    "\n",
    "print(f'Accuracy: {accuracy}')\n",
    "print(f'Precision: {precision}')\n",
    "print(f'Recall: {recall}')\n",
    "print(f'F1-Score: {f1}')\n",
    "print(f'AUC: {auc}')"
   ]
  },
  {
   "cell_type": "code",
   "execution_count": 11,
   "metadata": {},
   "outputs": [
    {
     "data": {
      "text/plain": [
       "1205"
      ]
     },
     "execution_count": 11,
     "metadata": {},
     "output_type": "execute_result"
    }
   ],
   "source": [
    "np.sum(binary_predictions)"
   ]
  },
  {
   "cell_type": "markdown",
   "metadata": {},
   "source": [
    "Test block here"
   ]
  },
  {
   "cell_type": "markdown",
   "metadata": {},
   "source": [
    "Implementing SMOTE:"
   ]
  },
  {
   "cell_type": "code",
   "execution_count": 12,
   "metadata": {},
   "outputs": [
    {
     "name": "stdout",
     "output_type": "stream",
     "text": [
      "Epoch 1/20\n",
      "\u001b[1m1023/1023\u001b[0m \u001b[32m━━━━━━━━━━━━━━━━━━━━\u001b[0m\u001b[37m\u001b[0m \u001b[1m1s\u001b[0m 652us/step - loss: 0.5604\n",
      "Epoch 2/20\n",
      "\u001b[1m1023/1023\u001b[0m \u001b[32m━━━━━━━━━━━━━━━━━━━━\u001b[0m\u001b[37m\u001b[0m \u001b[1m1s\u001b[0m 590us/step - loss: 0.5436\n",
      "Epoch 3/20\n",
      "\u001b[1m1023/1023\u001b[0m \u001b[32m━━━━━━━━━━━━━━━━━━━━\u001b[0m\u001b[37m\u001b[0m \u001b[1m1s\u001b[0m 588us/step - loss: 0.5409\n",
      "Epoch 4/20\n",
      "\u001b[1m1023/1023\u001b[0m \u001b[32m━━━━━━━━━━━━━━━━━━━━\u001b[0m\u001b[37m\u001b[0m \u001b[1m1s\u001b[0m 571us/step - loss: 0.5390\n",
      "Epoch 5/20\n",
      "\u001b[1m1023/1023\u001b[0m \u001b[32m━━━━━━━━━━━━━━━━━━━━\u001b[0m\u001b[37m\u001b[0m \u001b[1m1s\u001b[0m 603us/step - loss: 0.5371\n",
      "Epoch 6/20\n",
      "\u001b[1m1023/1023\u001b[0m \u001b[32m━━━━━━━━━━━━━━━━━━━━\u001b[0m\u001b[37m\u001b[0m \u001b[1m1s\u001b[0m 574us/step - loss: 0.5355\n",
      "Epoch 7/20\n",
      "\u001b[1m1023/1023\u001b[0m \u001b[32m━━━━━━━━━━━━━━━━━━━━\u001b[0m\u001b[37m\u001b[0m \u001b[1m1s\u001b[0m 573us/step - loss: 0.5337\n",
      "Epoch 8/20\n",
      "\u001b[1m1023/1023\u001b[0m \u001b[32m━━━━━━━━━━━━━━━━━━━━\u001b[0m\u001b[37m\u001b[0m \u001b[1m1s\u001b[0m 573us/step - loss: 0.5324\n",
      "Epoch 9/20\n",
      "\u001b[1m1023/1023\u001b[0m \u001b[32m━━━━━━━━━━━━━━━━━━━━\u001b[0m\u001b[37m\u001b[0m \u001b[1m1s\u001b[0m 601us/step - loss: 0.5308\n",
      "Epoch 10/20\n",
      "\u001b[1m1023/1023\u001b[0m \u001b[32m━━━━━━━━━━━━━━━━━━━━\u001b[0m\u001b[37m\u001b[0m \u001b[1m1s\u001b[0m 573us/step - loss: 0.5297\n",
      "Epoch 11/20\n",
      "\u001b[1m1023/1023\u001b[0m \u001b[32m━━━━━━━━━━━━━━━━━━━━\u001b[0m\u001b[37m\u001b[0m \u001b[1m1s\u001b[0m 587us/step - loss: 0.5285\n",
      "Epoch 12/20\n",
      "\u001b[1m1023/1023\u001b[0m \u001b[32m━━━━━━━━━━━━━━━━━━━━\u001b[0m\u001b[37m\u001b[0m \u001b[1m1s\u001b[0m 603us/step - loss: 0.5270\n",
      "Epoch 13/20\n",
      "\u001b[1m1023/1023\u001b[0m \u001b[32m━━━━━━━━━━━━━━━━━━━━\u001b[0m\u001b[37m\u001b[0m \u001b[1m1s\u001b[0m 605us/step - loss: 0.5260\n",
      "Epoch 14/20\n",
      "\u001b[1m1023/1023\u001b[0m \u001b[32m━━━━━━━━━━━━━━━━━━━━\u001b[0m\u001b[37m\u001b[0m \u001b[1m1s\u001b[0m 570us/step - loss: 0.5247\n",
      "Epoch 15/20\n",
      "\u001b[1m1023/1023\u001b[0m \u001b[32m━━━━━━━━━━━━━━━━━━━━\u001b[0m\u001b[37m\u001b[0m \u001b[1m1s\u001b[0m 586us/step - loss: 0.5237\n",
      "Epoch 16/20\n",
      "\u001b[1m1023/1023\u001b[0m \u001b[32m━━━━━━━━━━━━━━━━━━━━\u001b[0m\u001b[37m\u001b[0m \u001b[1m1s\u001b[0m 583us/step - loss: 0.5231\n",
      "Epoch 17/20\n",
      "\u001b[1m1023/1023\u001b[0m \u001b[32m━━━━━━━━━━━━━━━━━━━━\u001b[0m\u001b[37m\u001b[0m \u001b[1m1s\u001b[0m 575us/step - loss: 0.5219\n",
      "Epoch 18/20\n",
      "\u001b[1m1023/1023\u001b[0m \u001b[32m━━━━━━━━━━━━━━━━━━━━\u001b[0m\u001b[37m\u001b[0m \u001b[1m1s\u001b[0m 606us/step - loss: 0.5210\n",
      "Epoch 19/20\n",
      "\u001b[1m1023/1023\u001b[0m \u001b[32m━━━━━━━━━━━━━━━━━━━━\u001b[0m\u001b[37m\u001b[0m \u001b[1m1s\u001b[0m 585us/step - loss: 0.5204\n",
      "Epoch 20/20\n",
      "\u001b[1m1023/1023\u001b[0m \u001b[32m━━━━━━━━━━━━━━━━━━━━\u001b[0m\u001b[37m\u001b[0m \u001b[1m1s\u001b[0m 574us/step - loss: 0.5196\n",
      "\u001b[1m282/282\u001b[0m \u001b[32m━━━━━━━━━━━━━━━━━━━━\u001b[0m\u001b[37m\u001b[0m \u001b[1m0s\u001b[0m 452us/step - loss: 0.5918\n",
      "Test Loss: 0.5951685827302825\n",
      "\u001b[1m282/282\u001b[0m \u001b[32m━━━━━━━━━━━━━━━━━━━━\u001b[0m\u001b[37m\u001b[0m \u001b[1m0s\u001b[0m 452us/step\n",
      "AUC: 0.7568472142857142\n",
      "Accuracy: 0.6976666666666667\n",
      "Precision: 0.39362643847742695\n",
      "Recall: 0.667\n"
     ]
    }
   ],
   "source": [
    "from imblearn.over_sampling import SMOTE\n",
    "\n",
    "# Create an instance of SMOTE\n",
    "smote = SMOTE(random_state=42)\n",
    "\n",
    "# Fit and apply SMOTE to training data\n",
    "X_train_resampled, y_train_resampled = smote.fit_resample(X_train, y_train)\n",
    "\n",
    "# Train the model with resampled data\n",
    "model.fit(\n",
    "    X_train_resampled, y_train_resampled,\n",
    "    epochs=20,\n",
    "    class_weight=None  # No need to pass class weights if using SMOTE\n",
    ")\n",
    "\n",
    "# Evaluate the model on the test data\n",
    "test_loss = model.evaluate(X_test, y_test)\n",
    "print(f'Test Loss: {test_loss}')\n",
    "\n",
    "# Make predictions on the test data\n",
    "predictions = model.predict(X_test)\n",
    "\n",
    "# Calculate AUC\n",
    "auc = roc_auc_score(y_test, predictions)\n",
    "print(f'AUC: {auc}')\n",
    "\n",
    "# Convert to binary predictions with a different threshold if needed\n",
    "threshold = 0.5\n",
    "binary_predictions = (predictions > threshold).astype(int)\n",
    "\n",
    "# Calculate additional metrics\n",
    "accuracy = accuracy_score(y_test, binary_predictions)\n",
    "precision = precision_score(y_test, binary_predictions, zero_division=1)\n",
    "recall = recall_score(y_test, binary_predictions, zero_division=1)\n",
    "\n",
    "print(f'Accuracy: {accuracy}')\n",
    "print(f'Precision: {precision}')\n",
    "print(f'Recall: {recall}')\n"
   ]
  },
  {
   "cell_type": "code",
   "execution_count": null,
   "metadata": {},
   "outputs": [],
   "source": []
  }
 ],
 "metadata": {
  "kernelspec": {
   "display_name": "Python 3",
   "language": "python",
   "name": "python3"
  },
  "language_info": {
   "codemirror_mode": {
    "name": "ipython",
    "version": 3
   },
   "file_extension": ".py",
   "mimetype": "text/x-python",
   "name": "python",
   "nbconvert_exporter": "python",
   "pygments_lexer": "ipython3",
   "version": "3.12.2"
  }
 },
 "nbformat": 4,
 "nbformat_minor": 2
}
